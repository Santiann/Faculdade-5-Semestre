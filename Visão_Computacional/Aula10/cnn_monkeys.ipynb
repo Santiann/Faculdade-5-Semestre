{
  "cells": [
    {
      "cell_type": "code",
      "execution_count": 1,
      "metadata": {
        "id": "uAjRekJu6N8p"
      },
      "outputs": [
        {
          "name": "stderr",
          "output_type": "stream",
          "text": [
            "2024-05-02 23:05:33.752295: I external/local_tsl/tsl/cuda/cudart_stub.cc:32] Could not find cuda drivers on your machine, GPU will not be used.\n",
            "2024-05-02 23:05:33.977529: I external/local_tsl/tsl/cuda/cudart_stub.cc:32] Could not find cuda drivers on your machine, GPU will not be used.\n",
            "2024-05-02 23:05:34.838787: I tensorflow/core/platform/cpu_feature_guard.cc:210] This TensorFlow binary is optimized to use available CPU instructions in performance-critical operations.\n",
            "To enable the following instructions: AVX2 FMA, in other operations, rebuild TensorFlow with the appropriate compiler flags.\n",
            "2024-05-02 23:05:37.610812: W tensorflow/compiler/tf2tensorrt/utils/py_utils.cc:38] TF-TRT Warning: Could not find TensorRT\n"
          ]
        }
      ],
      "source": [
        "%matplotlib inline\n",
        "import matplotlib.pyplot as plt\n",
        "\n",
        "import tensorflow as tf\n",
        "import numpy as np\n",
        "import pandas as pd\n",
        "\n",
        "import time\n",
        "from datetime import timedelta\n",
        "\n",
        "import math\n",
        "import os\n",
        "\n",
        "import scipy.misc\n",
        "from random import sample\n",
        "import pickle\n",
        "\n",
        "from sklearn.metrics import confusion_matrix\n",
        "from sklearn.model_selection import train_test_split\n",
        "\n",
        "# Image manipulation\n",
        "import PIL.Image\n",
        "from IPython.display import display\n",
        "\n",
        "# Open a Zip File\n",
        "from zipfile import ZipFile\n",
        "from io import BytesIO\n",
        "import glob"
      ]
    },
    {
      "cell_type": "code",
      "execution_count": null,
      "metadata": {
        "id": "7whN5E8G53jm"
      },
      "outputs": [],
      "source": [
        "# Assuming your folder name is \"10-species-of-monkey-multiclass-classification\"\n",
        "folder_path = \"Data/monkey_species_data/training_data\"\n",
        "\n",
        "# List all files within the folder\n",
        "all_train_files = glob.glob(os.path.join(folder_path, \"*\"))\n",
        "train_image_files = []\n",
        "for folder in all_train_files:\n",
        "    # Assuming image files have the extension \".jpeg\"\n",
        "    folder_images = glob.glob(os.path.join(folder, \"*.jpeg\"))\n",
        "    train_image_files.extend(folder_images)"
      ]
    },
    {
      "cell_type": "code",
      "execution_count": null,
      "metadata": {
        "id": "QNu7bHBPICdt"
      },
      "outputs": [],
      "source": [
        "# Assuming your folder name is \"10-species-of-monkey-multiclass-classification\"\n",
        "folder_path = \"Data/monkey_species_data/prediction_data\"\n",
        "\n",
        "# List all files within the folder\n",
        "all_predict_files = glob.glob(os.path.join(folder_path, \"*\"))\n",
        "predict_image_files = []\n",
        "for folder in all_predict_files:\n",
        "    # Assuming image files have the extension \".jpeg\"\n",
        "    folder_images = glob.glob(os.path.join(folder, \"*.jpeg\"))\n",
        "    predict_image_files.extend(folder_images)"
      ]
    },
    {
      "cell_type": "code",
      "execution_count": null,
      "metadata": {
        "id": "EWH6tAvqDq7P"
      },
      "outputs": [],
      "source": [
        "def dataBase_creator(files, nwidth, nheight, save_name):\n",
        "    start_time = time.time()\n",
        "\n",
        "    # nwidth x nheight = number of features because images have nwidth x nheight pixels\n",
        "    s = (len(files)-1, nwidth, nheight,3)\n",
        "    allImage = np.zeros(s)\n",
        "    for i, filename in enumerate(files[:]):\n",
        "        image = PIL.Image.open(filename) # open colour image\n",
        "        widht, height = image.size\n",
        "        if widht < 255 and height < 255:\n",
        "          continue\n",
        "\n",
        "        image = image.resize((nwidth, nheight))\n",
        "        image = np.array(image)\n",
        "        image = np.clip(image/255.0, 0.0, 1.0) # 255 = max of the value of a pixel\n",
        "        allImage[i-1]=image\n",
        "\n",
        "    # we save the newly created data base\n",
        "    pickle.dump(allImage, open( save_name + '.p', \"wb\" ) )\n",
        "\n",
        "    # Ending time.\n",
        "    end_time = time.time()\n",
        "    # Difference between start and end-times.\n",
        "    time_dif = end_time - start_time\n",
        "    # Print the time-usage.\n",
        "    print(\"Time usage: \" + str(timedelta(seconds=int(round(time_dif)))))"
      ]
    },
    {
      "cell_type": "code",
      "execution_count": null,
      "metadata": {
        "colab": {
          "base_uri": "https://localhost:8080/"
        },
        "id": "Cby0fXEOMksi",
        "outputId": "a7660212-ba73-4128-d108-d4e2c1342d19"
      },
      "outputs": [
        {
          "data": {
            "text/plain": [
              "0"
            ]
          },
          "execution_count": 6,
          "metadata": {},
          "output_type": "execute_result"
        }
      ],
      "source": [
        "len(train_image_files)"
      ]
    },
    {
      "cell_type": "code",
      "execution_count": null,
      "metadata": {
        "colab": {
          "base_uri": "https://localhost:8080/",
          "height": 263
        },
        "id": "2QFuQ9pmF9_q",
        "outputId": "dcb32497-b433-4116-ba76-8091a1a67c50"
      },
      "outputs": [
        {
          "ename": "ValueError",
          "evalue": "negative dimensions are not allowed",
          "output_type": "error",
          "traceback": [
            "\u001b[0;31m---------------------------------------------------------------------------\u001b[0m",
            "\u001b[0;31mValueError\u001b[0m                                Traceback (most recent call last)",
            "\u001b[0;32m<ipython-input-5-f14ba28439be>\u001b[0m in \u001b[0;36m<cell line: 1>\u001b[0;34m()\u001b[0m\n\u001b[0;32m----> 1\u001b[0;31m \u001b[0mdataBase_creator\u001b[0m\u001b[0;34m(\u001b[0m\u001b[0mtrain_image_files\u001b[0m\u001b[0;34m,\u001b[0m \u001b[0mnwidth\u001b[0m \u001b[0;34m=\u001b[0m \u001b[0;36m255\u001b[0m\u001b[0;34m,\u001b[0m \u001b[0mnheight\u001b[0m \u001b[0;34m=\u001b[0m \u001b[0;36m255\u001b[0m \u001b[0;34m,\u001b[0m \u001b[0msave_name\u001b[0m \u001b[0;34m=\u001b[0m \u001b[0;34m'train'\u001b[0m\u001b[0;34m)\u001b[0m\u001b[0;34m\u001b[0m\u001b[0;34m\u001b[0m\u001b[0m\n\u001b[0m",
            "\u001b[0;32m<ipython-input-4-f5d89707d077>\u001b[0m in \u001b[0;36mdataBase_creator\u001b[0;34m(files, nwidth, nheight, save_name)\u001b[0m\n\u001b[1;32m      4\u001b[0m     \u001b[0;31m# nwidth x nheight = number of features because images have nwidth x nheight pixels\u001b[0m\u001b[0;34m\u001b[0m\u001b[0;34m\u001b[0m\u001b[0m\n\u001b[1;32m      5\u001b[0m     \u001b[0ms\u001b[0m \u001b[0;34m=\u001b[0m \u001b[0;34m(\u001b[0m\u001b[0mlen\u001b[0m\u001b[0;34m(\u001b[0m\u001b[0mfiles\u001b[0m\u001b[0;34m)\u001b[0m\u001b[0;34m-\u001b[0m\u001b[0;36m1\u001b[0m\u001b[0;34m,\u001b[0m \u001b[0mnwidth\u001b[0m\u001b[0;34m,\u001b[0m \u001b[0mnheight\u001b[0m\u001b[0;34m,\u001b[0m\u001b[0;36m3\u001b[0m\u001b[0;34m)\u001b[0m\u001b[0;34m\u001b[0m\u001b[0;34m\u001b[0m\u001b[0m\n\u001b[0;32m----> 6\u001b[0;31m     \u001b[0mallImage\u001b[0m \u001b[0;34m=\u001b[0m \u001b[0mnp\u001b[0m\u001b[0;34m.\u001b[0m\u001b[0mzeros\u001b[0m\u001b[0;34m(\u001b[0m\u001b[0ms\u001b[0m\u001b[0;34m)\u001b[0m\u001b[0;34m\u001b[0m\u001b[0;34m\u001b[0m\u001b[0m\n\u001b[0m\u001b[1;32m      7\u001b[0m     \u001b[0;32mfor\u001b[0m \u001b[0mi\u001b[0m\u001b[0;34m,\u001b[0m \u001b[0mfilename\u001b[0m \u001b[0;32min\u001b[0m \u001b[0menumerate\u001b[0m\u001b[0;34m(\u001b[0m\u001b[0mfiles\u001b[0m\u001b[0;34m[\u001b[0m\u001b[0;34m:\u001b[0m\u001b[0;34m]\u001b[0m\u001b[0;34m)\u001b[0m\u001b[0;34m:\u001b[0m\u001b[0;34m\u001b[0m\u001b[0;34m\u001b[0m\u001b[0m\n\u001b[1;32m      8\u001b[0m         \u001b[0mimage\u001b[0m \u001b[0;34m=\u001b[0m \u001b[0mPIL\u001b[0m\u001b[0;34m.\u001b[0m\u001b[0mImage\u001b[0m\u001b[0;34m.\u001b[0m\u001b[0mopen\u001b[0m\u001b[0;34m(\u001b[0m\u001b[0mfilename\u001b[0m\u001b[0;34m)\u001b[0m \u001b[0;31m# open colour image\u001b[0m\u001b[0;34m\u001b[0m\u001b[0;34m\u001b[0m\u001b[0m\n",
            "\u001b[0;31mValueError\u001b[0m: negative dimensions are not allowed"
          ]
        }
      ],
      "source": [
        "dataBase_creator(train_image_files, nwidth = 255, nheight = 255 , save_name = 'train')"
      ]
    }
  ],
  "metadata": {
    "accelerator": "GPU",
    "colab": {
      "gpuType": "T4",
      "provenance": []
    },
    "kernelspec": {
      "display_name": "Python 3",
      "name": "python3"
    },
    "language_info": {
      "codemirror_mode": {
        "name": "ipython",
        "version": 3
      },
      "file_extension": ".py",
      "mimetype": "text/x-python",
      "name": "python",
      "nbconvert_exporter": "python",
      "pygments_lexer": "ipython3",
      "version": "3.10.12"
    }
  },
  "nbformat": 4,
  "nbformat_minor": 0
}
