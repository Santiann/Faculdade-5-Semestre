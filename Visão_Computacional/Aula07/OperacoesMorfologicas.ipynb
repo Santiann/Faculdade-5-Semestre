{
  "cells": [
    {
      "cell_type": "markdown",
      "metadata": {
        "id": "VzBc69PJ8VXx"
      },
      "source": [
        "# Operações Morfológicas"
      ]
    },
    {
      "cell_type": "markdown",
      "metadata": {
        "id": "0iGQvHe38dVf"
      },
      "source": [
        "Inclusão dos pacotes."
      ]
    },
    {
      "cell_type": "code",
      "execution_count": 1,
      "metadata": {
        "id": "6mbGvqjc8edN"
      },
      "outputs": [],
      "source": [
        "from PIL import Image\n",
        "import math"
      ]
    },
    {
      "cell_type": "markdown",
      "metadata": {
        "id": "iPnp2ljc8jqc"
      },
      "source": [
        "Considere que a imagem **parafuso.jpg** foi capturada por um sistema de visão que possui uma resolução hipotética de 100 ppi (pontos por polegada).\n",
        "Sabendo disso, elabore um algoritmo para calcular:\n",
        "\n",
        "\n",
        "a área da seção tranversal do parafuso.\n",
        "\n",
        "*   o comprimento do parafuso (em mm)\n",
        "*   o diâmetro do corpo do parafuso (em mm)\n",
        "\n"
      ]
    },
    {
      "cell_type": "code",
      "execution_count": 2,
      "metadata": {
        "id": "BDajl6P4Crxp"
      },
      "outputs": [
        {
          "name": "stdout",
          "output_type": "stream",
          "text": [
            "Área da seção transversal do parafuso: 3412.8964 mm^2\n",
            "Comprimento do parafuso: 58.42 mm\n",
            "Diâmetro do corpo do parafuso: 65.91991094171985 mm\n"
          ]
        }
      ],
      "source": [
        "# Carregar a imagem\n",
        "imagem = Image.open('parafuso.jpg')\n",
        "\n",
        "# Dimensões da imagem em pixels\n",
        "largura, altura = imagem.size\n",
        "\n",
        "# Resolução (pixels por polegada)\n",
        "ppi = 100\n",
        "\n",
        "# Calcular tamanho real de um pixel (mm por pixel)\n",
        "tamanho_pixel_mm = 25.4 / ppi\n",
        "\n",
        "# Área da seção transversal do parafuso na imagem (em pixels)\n",
        "area_secao_transversal_pixels = largura * altura\n",
        "\n",
        "# Área da seção transversal do parafuso (em mm^2)\n",
        "area_secao_transversal_mm2 = area_secao_transversal_pixels * (tamanho_pixel_mm ** 2)\n",
        "\n",
        "# Comprimento do parafuso (em mm) - Assumindo que a imagem mostra o parafuso em sua totalidade\n",
        "comprimento_parafuso_mm = altura * tamanho_pixel_mm\n",
        "\n",
        "# Diâmetro do corpo do parafuso (em mm)\n",
        "# Assumindo que a seção transversal é circular e usando a fórmula A = π * r^2\n",
        "# onde A é a área da seção transversal e r é o raio do círculo\n",
        "# Portanto, r = sqrt(A / π)\n",
        "raio_corpo_parafuso_mm = math.sqrt(area_secao_transversal_mm2 / math.pi)\n",
        "diametro_corpo_parafuso_mm = 2 * raio_corpo_parafuso_mm\n",
        "\n",
        "print(\"Área da seção transversal do parafuso:\", area_secao_transversal_mm2, \"mm²\")\n",
        "print(\"Comprimento do parafuso:\", comprimento_parafuso_mm, \"mm\")\n",
        "print(\"Diâmetro do corpo do parafuso:\", diametro_corpo_parafuso_mm, \"mm\")"
      ]
    },
    {
      "cell_type": "markdown",
      "metadata": {
        "id": "G6tZn7Es3KoD"
      },
      "source": [
        "---\n",
        "\n",
        "<h1>Equipe</h1>\n",
        "\n",
        "**Aluno 1**: Nome (RGM)\n",
        "\n",
        "**Aluno 2**: Nome (RGM)\n",
        "\n",
        "**Aluno 3**: Nome (RGM)\n",
        "\n",
        "**Aluno 4**: Nome (RGM)\n"
      ]
    }
  ],
  "metadata": {
    "colab": {
      "provenance": []
    },
    "kernelspec": {
      "display_name": "Python 3",
      "name": "python3"
    },
    "language_info": {
      "codemirror_mode": {
        "name": "ipython",
        "version": 3
      },
      "file_extension": ".py",
      "mimetype": "text/x-python",
      "name": "python",
      "nbconvert_exporter": "python",
      "pygments_lexer": "ipython3",
      "version": "3.10.12"
    }
  },
  "nbformat": 4,
  "nbformat_minor": 0
}
