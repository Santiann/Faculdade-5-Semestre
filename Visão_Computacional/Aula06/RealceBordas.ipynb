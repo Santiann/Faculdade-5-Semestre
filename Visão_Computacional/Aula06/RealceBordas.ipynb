{
  "cells": [
    {
      "cell_type": "markdown",
      "metadata": {
        "id": "yqgBlDZ0sSkf"
      },
      "source": [
        "# Realce de Bordas"
      ]
    },
    {
      "cell_type": "markdown",
      "metadata": {
        "id": "pnT5ielksbhD"
      },
      "source": [
        "Inclusão dos pacotes."
      ]
    },
    {
      "cell_type": "code",
      "execution_count": null,
      "metadata": {
        "id": "1QZpDWI0sdOD"
      },
      "outputs": [],
      "source": [
        "import matplotlib.pyplot as plt\n",
        "import matplotlib.image as mpimg\n",
        "import numpy as np\n",
        "import cv2"
      ]
    },
    {
      "cell_type": "markdown",
      "metadata": {
        "id": "Ubqe7-Sdsk7f"
      },
      "source": [
        "1) Abra a imagem cafe.png e plote a mesma em tons de cinza."
      ]
    },
    {
      "cell_type": "code",
      "execution_count": null,
      "metadata": {
        "id": "rWL06brnsos9"
      },
      "outputs": [],
      "source": [
        "# Carregar a imagem\n",
        "imagem = mpimg.imread('cafe.png')\n",
        "\n",
        "image = cv2.imread('cafe.png', cv2.IMREAD_GRAYSCALE)\n",
        "\n",
        "# Plotar a imagem em tons de cinza\n",
        "plt.imshow(image, cmap='gray')\n",
        "plt.axis('off')  # Desativar os eixos\n",
        "plt.show()"
      ]
    },
    {
      "cell_type": "markdown",
      "metadata": {
        "id": "kodDxDiwsqAJ"
      },
      "source": [
        "2) Execute o algoritmo de detecção de bordas de Sobel e plote o resultado."
      ]
    },
    {
      "cell_type": "code",
      "execution_count": null,
      "metadata": {
        "id": "qDuPjrFWs5DX"
      },
      "outputs": [],
      "source": [
        "# Aplicar o filtro de Sobel\n",
        "sobel_x = cv2.Sobel(image, cv2.CV_64F, 1, 0, ksize=3)\n",
        "sobel_y = cv2.Sobel(image, cv2.CV_64F, 0, 1, ksize=3)\n",
        "\n",
        "# Calcular a magnitude das bordas\n",
        "magnitude_bordas = cv2.magnitude(sobel_x, sobel_y)\n",
        "\n",
        "# Normalizar a magnitude das bordas para exibição\n",
        "magnitude_bordas = cv2.normalize(magnitude_bordas, None, 0, 255, cv2.NORM_MINMAX, dtype=cv2.CV_8U)\n",
        "\n",
        "# Plotar a imagem original e a imagem com as bordas detectadas lado a lado\n",
        "plt.figure(figsize=(10, 5))\n",
        "\n",
        "# Plotar imagem original\n",
        "plt.subplot(1, 2, 1)\n",
        "plt.imshow(image, cmap='gray')\n",
        "plt.title('Imagem Original')\n",
        "plt.axis('off')\n",
        "\n",
        "# Plotar imagem com bordas detectadas\n",
        "plt.subplot(1, 2, 2)\n",
        "plt.imshow(magnitude_bordas, cmap='gray')\n",
        "plt.title('Bordas Detectadas (Sobel)')\n",
        "plt.axis('off')\n",
        "\n",
        "plt.show()"
      ]
    },
    {
      "cell_type": "markdown",
      "metadata": {
        "id": "ntj6Bkfhs6bf"
      },
      "source": [
        "3) Execute o algoritmo de detecção de bordas de Prewitt e plote o resultado."
      ]
    },
    {
      "cell_type": "code",
      "execution_count": null,
      "metadata": {
        "id": "I6l3olHYtE_4"
      },
      "outputs": [],
      "source": [
        "# Aplicar o filtro de Prewitt horizontal\n",
        "prewitt_horizontal = cv2.filter2D(image, -1, np.array([[-1, 0, 1], [-1, 0, 1], [-1, 0, 1]]))\n",
        "\n",
        "# Aplicar o filtro de Prewitt vertical\n",
        "prewitt_vertical = cv2.filter2D(image, -1, np.array([[-1, -1, -1], [0, 0, 0], [1, 1, 1]]))\n",
        "\n",
        "# Calcular a magnitude das bordas\n",
        "magnitude = np.sqrt(prewitt_horizontal**2 + prewitt_vertical**2)\n",
        "\n",
        "# Plotar as imagens\n",
        "plt.figure(figsize=(10, 5))\n",
        "\n",
        "plt.subplot(1, 3, 1)\n",
        "plt.imshow(image, cmap='gray')\n",
        "plt.title('Imagem Original')\n",
        "plt.axis('off')\n",
        "\n",
        "plt.subplot(1, 3, 2)\n",
        "plt.imshow(magnitude, cmap='gray')\n",
        "plt.title('Detecção de Bordas de Prewitt')\n",
        "plt.axis('off')\n",
        "\n",
        "plt.show()"
      ]
    },
    {
      "cell_type": "markdown",
      "metadata": {
        "id": "Wxhj5aH0tGbG"
      },
      "source": [
        "4) Execute o algoritmo de detecção de bordas de Roberts e plote o resultado."
      ]
    },
    {
      "cell_type": "code",
      "execution_count": null,
      "metadata": {
        "id": "bfSCzzhPtM0m"
      },
      "outputs": [],
      "source": [
        "# Aplicar os filtros de Roberts\n",
        "roberts_x = cv2.filter2D(image, -1, np.array([[1, 0], [0, -1]])).astype(np.float32)\n",
        "roberts_y = cv2.filter2D(image, -1, np.array([[0, 1], [-1, 0]])).astype(np.float32)\n",
        "\n",
        "# Calcular a magnitude das bordas\n",
        "magnitude = cv2.magnitude(roberts_x, roberts_y)\n",
        "\n",
        "# Plotar as imagens\n",
        "plt.figure(figsize=(10, 5))\n",
        "\n",
        "plt.subplot(1, 3, 1)\n",
        "plt.imshow(image, cmap='gray')\n",
        "plt.title('Imagem Original')\n",
        "plt.axis('off')\n",
        "\n",
        "plt.subplot(1, 3, 2)\n",
        "plt.imshow(magnitude, cmap='gray')\n",
        "plt.title('Detecção de Bordas de Roberts')\n",
        "plt.axis('off')\n",
        "\n",
        "plt.show()\n",
        "\n"
      ]
    },
    {
      "cell_type": "markdown",
      "metadata": {
        "id": "PdC9QX3ItOfg"
      },
      "source": [
        "5) Execute o algoritmo de detecção de bordas de LoG (Laplaciano do Gaussiano) e plote o resultado."
      ]
    },
    {
      "cell_type": "code",
      "execution_count": null,
      "metadata": {
        "id": "HIxxv498tYh-"
      },
      "outputs": [],
      "source": [
        "# Aplicar um filtro Gaussiano para suavizar a imagem\n",
        "image_blurred = cv2.GaussianBlur(image, (3, 3), 0)\n",
        "\n",
        "# Aplicar o Laplaciano\n",
        "laplacian = cv2.Laplacian(image_blurred, cv2.CV_64F)\n",
        "\n",
        "# Plotar as imagens\n",
        "plt.figure(figsize=(10, 5))\n",
        "\n",
        "plt.subplot(1, 3, 1)\n",
        "plt.imshow(image, cmap='gray')\n",
        "plt.title('Imagem Original')\n",
        "plt.axis('off')\n",
        "\n",
        "plt.subplot(1, 3, 2)\n",
        "plt.imshow(laplacian, cmap='gray')\n",
        "plt.title('Detecção de Bordas de LoG')\n",
        "plt.axis('off')\n",
        "\n",
        "plt.show()\n"
      ]
    },
    {
      "cell_type": "markdown",
      "metadata": {
        "id": "JlidY7yvtZtE"
      },
      "source": [
        "6) Execute o algoritmo de detecção de bordas de Canny para 3 conjuntos de parâmetros distintos e plote os resultados."
      ]
    },
    {
      "cell_type": "code",
      "execution_count": null,
      "metadata": {
        "id": "bRapbuHNt4u4"
      },
      "outputs": [],
      "source": [
        "canny_params = [(50, 150), (100, 200), (150, 250)]\n",
        "\n",
        "plt.figure(figsize=(15, 5))\n",
        "\n",
        "for i, (minVal, maxVal) in enumerate(canny_params):\n",
        "    edges = cv2.Canny(image, minVal, maxVal)\n",
        "    \n",
        "    plt.subplot(1, 3, i+1)\n",
        "    plt.imshow(edges, cmap='gray')\n",
        "    plt.title(f'Canny (minVal={minVal}, maxVal={maxVal})')\n",
        "    plt.axis('off')\n",
        "\n",
        "plt.show()\n"
      ]
    },
    {
      "cell_type": "markdown",
      "metadata": {
        "id": "jjy0WBnJt5-w"
      },
      "source": [
        "7) Execute o algoritmo que você considera que obteve os melhores resultados com esta imagem de teste e plote os resultados."
      ]
    },
    {
      "cell_type": "code",
      "execution_count": null,
      "metadata": {
        "id": "es5kFH08uF3i"
      },
      "outputs": [],
      "source": [
        "# Aplicar o filtro de Sobel\n",
        "sobel_x = cv2.Sobel(image, cv2.CV_64F, 1, 0, ksize=3)\n",
        "sobel_y = cv2.Sobel(image, cv2.CV_64F, 0, 1, ksize=3)\n",
        "\n",
        "# Calcular a magnitude das bordas\n",
        "magnitude_bordas = cv2.magnitude(sobel_x, sobel_y)\n",
        "\n",
        "# Normalizar a magnitude das bordas para exibição\n",
        "magnitude_bordas = cv2.normalize(magnitude_bordas, None, 0, 255, cv2.NORM_MINMAX, dtype=cv2.CV_8U)\n",
        "\n",
        "# Plotar a imagem original e a imagem com as bordas detectadas lado a lado\n",
        "plt.figure(figsize=(10, 5))\n",
        "\n",
        "# Plotar imagem original\n",
        "plt.subplot(1, 2, 1)\n",
        "plt.imshow(image, cmap='gray')\n",
        "plt.title('Imagem Original')\n",
        "plt.axis('off')\n",
        "\n",
        "# Plotar imagem com bordas detectadas\n",
        "plt.subplot(1, 2, 2)\n",
        "plt.imshow(magnitude_bordas, cmap='gray')\n",
        "plt.title('Bordas Detectadas (Sobel)')\n",
        "plt.axis('off')\n",
        "\n",
        "plt.show()"
      ]
    },
    {
      "cell_type": "markdown",
      "metadata": {
        "id": "5YNSO8rQuHK4"
      },
      "source": [
        "---\n",
        "\n",
        "<h1>Equipe</h1>\n",
        "\n",
        "**Aluno 1**: João Vitor Santian (26509563)\n",
        "\n",
        "**Aluno 2**: Nome (RGM)\n",
        "\n",
        "**Aluno 3**: Nome (RGM)\n",
        "\n",
        "**Aluno 4**: Nome (RGM)\n"
      ]
    }
  ],
  "metadata": {
    "colab": {
      "provenance": []
    },
    "kernelspec": {
      "display_name": "Python 3",
      "name": "python3"
    },
    "language_info": {
      "codemirror_mode": {
        "name": "ipython",
        "version": 3
      },
      "file_extension": ".py",
      "mimetype": "text/x-python",
      "name": "python",
      "nbconvert_exporter": "python",
      "pygments_lexer": "ipython3",
      "version": "3.10.12"
    }
  },
  "nbformat": 4,
  "nbformat_minor": 0
}
