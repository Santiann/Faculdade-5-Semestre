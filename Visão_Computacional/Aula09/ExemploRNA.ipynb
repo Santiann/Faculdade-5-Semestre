{
  "cells": [
    {
      "cell_type": "code",
      "execution_count": 1,
      "metadata": {
        "id": "UkqO9Ou0lzq9"
      },
      "outputs": [
        {
          "name": "stderr",
          "output_type": "stream",
          "text": [
            "2024-04-25 19:37:25.078881: I external/local_tsl/tsl/cuda/cudart_stub.cc:32] Could not find cuda drivers on your machine, GPU will not be used.\n",
            "2024-04-25 19:37:25.081912: I external/local_tsl/tsl/cuda/cudart_stub.cc:32] Could not find cuda drivers on your machine, GPU will not be used.\n",
            "2024-04-25 19:37:25.123196: I tensorflow/core/platform/cpu_feature_guard.cc:210] This TensorFlow binary is optimized to use available CPU instructions in performance-critical operations.\n",
            "To enable the following instructions: AVX2 FMA, in other operations, rebuild TensorFlow with the appropriate compiler flags.\n",
            "2024-04-25 19:37:25.872190: W tensorflow/compiler/tf2tensorrt/utils/py_utils.cc:38] TF-TRT Warning: Could not find TensorRT\n"
          ]
        }
      ],
      "source": [
        "import numpy as np\n",
        "import pandas as pd\n",
        "import matplotlib.pyplot as plt\n",
        "\n",
        "from keras.models import Sequential, load_model\n",
        "from keras.layers import Dense\n",
        "from keras.utils import to_categorical\n",
        "\n",
        "from sklearn.model_selection import train_test_split\n",
        "from sklearn.datasets import load_iris"
      ]
    },
    {
      "cell_type": "code",
      "execution_count": 2,
      "metadata": {
        "colab": {
          "base_uri": "https://localhost:8080/"
        },
        "id": "JZOngvN2qKUc",
        "outputId": "cac9faa4-05e3-44c8-c4ef-ad77387db418"
      },
      "outputs": [
        {
          "name": "stdout",
          "output_type": "stream",
          "text": [
            "Formato dos dados:\n",
            "(150, 4)\n",
            "(150, 3)\n",
            "Primeiro exemplo do dataset:\n",
            "Entrada: [5.1 3.5 1.4 0.2]\n",
            "Saida: [1. 0. 0.]\n"
          ]
        }
      ],
      "source": [
        "# carrega o dataset iris\n",
        "data = load_iris()\n",
        "X = data.data\n",
        "Y = to_categorical(data.target)\n",
        "\n",
        "# mostra a estrutura dos dados de entrada X e de saída Y\n",
        "print('Formato dos dados:')\n",
        "print(X.shape)\n",
        "print(Y.shape)\n",
        "\n",
        "# mostra os primeiros exemplos do dataset (entrada e saída)\n",
        "print('Primeiro exemplo do dataset:')\n",
        "print('Entrada:', X[0])\n",
        "print('Saida:', Y[0])"
      ]
    },
    {
      "cell_type": "code",
      "execution_count": 3,
      "metadata": {
        "colab": {
          "base_uri": "https://localhost:8080/"
        },
        "id": "id8S_scErEbo",
        "outputId": "eb97d441-e8ef-4699-9eba-1fbf6022f88f"
      },
      "outputs": [
        {
          "name": "stdout",
          "output_type": "stream",
          "text": [
            "(120, 4)\n",
            "(30, 4)\n",
            "(120, 3)\n",
            "(30, 3)\n"
          ]
        }
      ],
      "source": [
        "# separa 20% do dataset para servir como base de teste\n",
        "# 80% dos dados serão usados para treinar a RNA\n",
        "# 20% dos dados serão usados para testar a RNA\n",
        "X_train, X_test, Y_train, Y_test = train_test_split(X, Y, test_size=0.20, random_state=42)\n",
        "\n",
        "print(X_train.shape)\n",
        "print(X_test.shape)\n",
        "print(Y_train.shape)\n",
        "print(Y_test.shape)"
      ]
    },
    {
      "cell_type": "code",
      "execution_count": 4,
      "metadata": {
        "id": "5phuV-eZrwL1"
      },
      "outputs": [
        {
          "name": "stderr",
          "output_type": "stream",
          "text": [
            "/home/santian/.local/lib/python3.10/site-packages/keras/src/layers/core/dense.py:87: UserWarning: Do not pass an `input_shape`/`input_dim` argument to a layer. When using Sequential models, prefer using an `Input(shape)` object as the first layer in the model instead.\n",
            "  super().__init__(activity_regularizer=activity_regularizer, **kwargs)\n"
          ]
        }
      ],
      "source": [
        "# define a estrutura da RNA\n",
        "model = Sequential()\n",
        "model.add(Dense(6, kernel_initializer='normal', input_dim=4, activation='relu'))\n",
        "model.add(Dense(3, kernel_initializer='normal', activation='softmax'))\n",
        "model.compile(optimizer='adam', loss='categorical_crossentropy', metrics=['accuracy'])"
      ]
    },
    {
      "cell_type": "code",
      "execution_count": 5,
      "metadata": {
        "colab": {
          "base_uri": "https://localhost:8080/"
        },
        "id": "j4NNK4P7s_fg",
        "outputId": "326287f9-5d9b-4748-a729-a584846be570"
      },
      "outputs": [
        {
          "name": "stdout",
          "output_type": "stream",
          "text": [
            "Epoch 1/20\n",
            "\u001b[1m3/3\u001b[0m \u001b[32m━━━━━━━━━━━━━━━━━━━━\u001b[0m\u001b[37m\u001b[0m \u001b[1m1s\u001b[0m 153ms/step - accuracy: 0.3255 - loss: 1.1016 - val_accuracy: 0.2917 - val_loss: 1.0978\n",
            "Epoch 2/20\n",
            "\u001b[1m3/3\u001b[0m \u001b[32m━━━━━━━━━━━━━━━━━━━━\u001b[0m\u001b[37m\u001b[0m \u001b[1m0s\u001b[0m 17ms/step - accuracy: 0.3724 - loss: 1.0983 - val_accuracy: 0.2917 - val_loss: 1.0982\n",
            "Epoch 3/20\n",
            "\u001b[1m3/3\u001b[0m \u001b[32m━━━━━━━━━━━━━━━━━━━━\u001b[0m\u001b[37m\u001b[0m \u001b[1m0s\u001b[0m 15ms/step - accuracy: 0.3763 - loss: 1.0975 - val_accuracy: 0.2917 - val_loss: 1.0989\n",
            "Epoch 4/20\n",
            "\u001b[1m3/3\u001b[0m \u001b[32m━━━━━━━━━━━━━━━━━━━━\u001b[0m\u001b[37m\u001b[0m \u001b[1m0s\u001b[0m 15ms/step - accuracy: 0.3763 - loss: 1.0965 - val_accuracy: 0.2917 - val_loss: 1.0993\n",
            "Epoch 5/20\n",
            "\u001b[1m3/3\u001b[0m \u001b[32m━━━━━━━━━━━━━━━━━━━━\u001b[0m\u001b[37m\u001b[0m \u001b[1m0s\u001b[0m 16ms/step - accuracy: 0.3880 - loss: 1.0953 - val_accuracy: 0.2917 - val_loss: 1.0995\n",
            "Epoch 6/20\n",
            "\u001b[1m3/3\u001b[0m \u001b[32m━━━━━━━━━━━━━━━━━━━━\u001b[0m\u001b[37m\u001b[0m \u001b[1m0s\u001b[0m 19ms/step - accuracy: 0.3529 - loss: 1.0958 - val_accuracy: 0.2917 - val_loss: 1.0997\n",
            "Epoch 7/20\n",
            "\u001b[1m3/3\u001b[0m \u001b[32m━━━━━━━━━━━━━━━━━━━━\u001b[0m\u001b[37m\u001b[0m \u001b[1m0s\u001b[0m 20ms/step - accuracy: 0.3841 - loss: 1.0936 - val_accuracy: 0.2917 - val_loss: 1.1001\n",
            "Epoch 8/20\n",
            "\u001b[1m3/3\u001b[0m \u001b[32m━━━━━━━━━━━━━━━━━━━━\u001b[0m\u001b[37m\u001b[0m \u001b[1m0s\u001b[0m 35ms/step - accuracy: 0.3724 - loss: 1.0929 - val_accuracy: 0.2917 - val_loss: 1.1003\n",
            "Epoch 9/20\n",
            "\u001b[1m3/3\u001b[0m \u001b[32m━━━━━━━━━━━━━━━━━━━━\u001b[0m\u001b[37m\u001b[0m \u001b[1m0s\u001b[0m 15ms/step - accuracy: 0.2904 - loss: 1.0966 - val_accuracy: 0.2917 - val_loss: 1.0997\n",
            "Epoch 10/20\n",
            "\u001b[1m3/3\u001b[0m \u001b[32m━━━━━━━━━━━━━━━━━━━━\u001b[0m\u001b[37m\u001b[0m \u001b[1m0s\u001b[0m 16ms/step - accuracy: 0.4115 - loss: 1.0895 - val_accuracy: 0.2917 - val_loss: 1.0997\n",
            "Epoch 11/20\n",
            "\u001b[1m3/3\u001b[0m \u001b[32m━━━━━━━━━━━━━━━━━━━━\u001b[0m\u001b[37m\u001b[0m \u001b[1m0s\u001b[0m 15ms/step - accuracy: 0.3763 - loss: 1.0902 - val_accuracy: 0.2917 - val_loss: 1.0992\n",
            "Epoch 12/20\n",
            "\u001b[1m3/3\u001b[0m \u001b[32m━━━━━━━━━━━━━━━━━━━━\u001b[0m\u001b[37m\u001b[0m \u001b[1m0s\u001b[0m 15ms/step - accuracy: 0.3451 - loss: 1.0894 - val_accuracy: 0.2917 - val_loss: 1.0985\n",
            "Epoch 13/20\n",
            "\u001b[1m3/3\u001b[0m \u001b[32m━━━━━━━━━━━━━━━━━━━━\u001b[0m\u001b[37m\u001b[0m \u001b[1m0s\u001b[0m 16ms/step - accuracy: 0.3529 - loss: 1.0874 - val_accuracy: 0.2917 - val_loss: 1.0977\n",
            "Epoch 14/20\n",
            "\u001b[1m3/3\u001b[0m \u001b[32m━━━━━━━━━━━━━━━━━━━━\u001b[0m\u001b[37m\u001b[0m \u001b[1m0s\u001b[0m 16ms/step - accuracy: 0.3216 - loss: 1.0876 - val_accuracy: 0.2917 - val_loss: 1.0963\n",
            "Epoch 15/20\n",
            "\u001b[1m3/3\u001b[0m \u001b[32m━━━━━━━━━━━━━━━━━━━━\u001b[0m\u001b[37m\u001b[0m \u001b[1m0s\u001b[0m 15ms/step - accuracy: 0.4049 - loss: 1.0830 - val_accuracy: 0.3333 - val_loss: 1.0948\n",
            "Epoch 16/20\n",
            "\u001b[1m3/3\u001b[0m \u001b[32m━━━━━━━━━━━━━━━━━━━━\u001b[0m\u001b[37m\u001b[0m \u001b[1m0s\u001b[0m 15ms/step - accuracy: 0.4102 - loss: 1.0859 - val_accuracy: 0.4167 - val_loss: 1.0924\n",
            "Epoch 17/20\n",
            "\u001b[1m3/3\u001b[0m \u001b[32m━━━━━━━━━━━━━━━━━━━━\u001b[0m\u001b[37m\u001b[0m \u001b[1m0s\u001b[0m 15ms/step - accuracy: 0.6471 - loss: 1.0810 - val_accuracy: 0.4167 - val_loss: 1.0897\n",
            "Epoch 18/20\n",
            "\u001b[1m3/3\u001b[0m \u001b[32m━━━━━━━━━━━━━━━━━━━━\u001b[0m\u001b[37m\u001b[0m \u001b[1m0s\u001b[0m 15ms/step - accuracy: 0.6680 - loss: 1.0800 - val_accuracy: 0.5000 - val_loss: 1.0865\n",
            "Epoch 19/20\n",
            "\u001b[1m3/3\u001b[0m \u001b[32m━━━━━━━━━━━━━━━━━━━━\u001b[0m\u001b[37m\u001b[0m \u001b[1m0s\u001b[0m 15ms/step - accuracy: 0.7214 - loss: 1.0748 - val_accuracy: 0.5000 - val_loss: 1.0834\n",
            "Epoch 20/20\n",
            "\u001b[1m3/3\u001b[0m \u001b[32m━━━━━━━━━━━━━━━━━━━━\u001b[0m\u001b[37m\u001b[0m \u001b[1m0s\u001b[0m 13ms/step - accuracy: 0.6940 - loss: 1.0736 - val_accuracy: 0.5000 - val_loss: 1.0801\n"
          ]
        }
      ],
      "source": [
        "# treina a RNA\n",
        "history = model.fit(X_train, Y_train, validation_split=0.20, epochs=20)"
      ]
    },
    {
      "cell_type": "code",
      "execution_count": 6,
      "metadata": {
        "colab": {
          "base_uri": "https://localhost:8080/",
          "height": 472
        },
        "id": "jOuA25_ztxKt",
        "outputId": "c2d260c1-902d-422a-9008-fba21956163b"
      },
      "outputs": [
        {
          "data": {
            "image/png": "[encoded data removed]",
            "text/plain": [
              "<Figure size 640x480 with 1 Axes>"
            ]
          },
          "metadata": {},
          "output_type": "display_data"
        }
      ],
      "source": [
        "# mostra o histórico da função perda\n",
        "plt.plot(history.history['loss'])\n",
        "plt.plot(history.history['val_loss'])\n",
        "plt.title('model loss')\n",
        "plt.ylabel('loss')\n",
        "plt.xlabel('epoch')\n",
        "plt.legend(['train', 'validation'], loc='upper right')\n",
        "plt.show()"
      ]
    },
    {
      "cell_type": "code",
      "execution_count": 7,
      "metadata": {
        "colab": {
          "base_uri": "https://localhost:8080/"
        },
        "id": "BgNUlbSYuV1G",
        "outputId": "e810762e-76d6-4f0d-cd3d-9882bb898da8"
      },
      "outputs": [
        {
          "name": "stdout",
          "output_type": "stream",
          "text": [
            "Train acc: 0.675000011920929\n",
            "Test acc: 0.6333333253860474\n"
          ]
        }
      ],
      "source": [
        "# avalia o desempenho da RNA na base de treinamento\n",
        "train_loss, train_acc = model.evaluate(X_train, Y_train, verbose=0)\n",
        "\n",
        "#print('Train loss:', train_loss)\n",
        "print('Train acc:', train_acc)\n",
        "\n",
        "# avalia o desempenho da RNA na base de teste (que nunca foi apresentada para a RNA no seu treinamento)\n",
        "test_loss, test_acc = model.evaluate(X_test, Y_test, verbose=0)\n",
        "\n",
        "#print('Test loss:', test_loss)\n",
        "print('Test acc:', test_acc)"
      ]
    },
    {
      "cell_type": "code",
      "execution_count": 8,
      "metadata": {
        "colab": {
          "base_uri": "https://localhost:8080/"
        },
        "id": "1i0a1ISDwbZR",
        "outputId": "4ff9cbac-958f-4d42-d675-adfd3ac99b67"
      },
      "outputs": [
        {
          "name": "stdout",
          "output_type": "stream",
          "text": [
            "\u001b[1m1/1\u001b[0m \u001b[32m━━━━━━━━━━━━━━━━━━━━\u001b[0m\u001b[37m\u001b[0m \u001b[1m0s\u001b[0m 36ms/step\n",
            "[[5.7 3.8 1.7 0.3]]\n",
            "[[1. 0. 0.]]\n",
            "[[0.34775198 0.34278154 0.3094665 ]]\n"
          ]
        }
      ],
      "source": [
        "# exemplo de como realizar a predição de um exemplo qualquer\n",
        "predict = model.predict(X_test[1:2])\n",
        "\n",
        "print(X_test[1:2])\n",
        "print(Y_test[1:2])\n",
        "print(predict)"
      ]
    }
  ],
  "metadata": {
    "colab": {
      "provenance": []
    },
    "kernelspec": {
      "display_name": "Python 3",
      "name": "python3"
    },
    "language_info": {
      "codemirror_mode": {
        "name": "ipython",
        "version": 3
      },
      "file_extension": ".py",
      "mimetype": "text/x-python",
      "name": "python",
      "nbconvert_exporter": "python",
      "pygments_lexer": "ipython3",
      "version": "3.10.12"
    }
  },
  "nbformat": 4,
  "nbformat_minor": 0
}
