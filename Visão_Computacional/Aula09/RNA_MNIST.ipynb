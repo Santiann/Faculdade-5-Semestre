{
  "cells": [
    {
      "cell_type": "markdown",
      "metadata": {
        "id": "Q4-aVmIRGVHm"
      },
      "source": [
        "# Redes Neurais Artificiais aplicadas no reconhecimento de dígitos manuscritos"
      ]
    },
    {
      "cell_type": "markdown",
      "metadata": {
        "id": "SPixeNp7Gfsz"
      },
      "source": [
        "Inclusão dos pacotes."
      ]
    },
    {
      "cell_type": "code",
      "execution_count": 1,
      "metadata": {
        "id": "aXzkNU-LGiHO"
      },
      "outputs": [],
      "source": [
        "import pandas as pd"
      ]
    },
    {
      "cell_type": "markdown",
      "metadata": {
        "id": "BJXMF1U2Glb8"
      },
      "source": [
        "1) Importe os dados da base de dados MNIST e faça as devidas manipulações para utilizar os dados com Redes Neurais."
      ]
    },
    {
      "cell_type": "code",
      "execution_count": null,
      "metadata": {
        "id": "_rJtZmEeHMGb"
      },
      "outputs": [],
      "source": [
        "# to do"
      ]
    },
    {
      "cell_type": "markdown",
      "metadata": {
        "id": "ajMUrRdEHVCu"
      },
      "source": [
        "2) Implemente o modelo."
      ]
    },
    {
      "cell_type": "code",
      "execution_count": null,
      "metadata": {
        "id": "i4gvQiA_HYaH"
      },
      "outputs": [],
      "source": [
        "# to do"
      ]
    },
    {
      "cell_type": "markdown",
      "metadata": {
        "id": "lxhJqnNaHZ9C"
      },
      "source": [
        "3) Treine o modelo."
      ]
    },
    {
      "cell_type": "code",
      "execution_count": null,
      "metadata": {
        "id": "_BVf14-DHjbA"
      },
      "outputs": [],
      "source": [
        "# to do"
      ]
    },
    {
      "cell_type": "markdown",
      "metadata": {
        "id": "TMv6Md-pHk73"
      },
      "source": [
        "4) Plote o gráfico da função de perda ao longo do processo de treinamento."
      ]
    },
    {
      "cell_type": "code",
      "execution_count": null,
      "metadata": {
        "id": "LrdxaucyH08h"
      },
      "outputs": [],
      "source": [
        "# to do"
      ]
    },
    {
      "cell_type": "markdown",
      "metadata": {
        "id": "U1_7KKJ1H2Sc"
      },
      "source": [
        "5) Imprima a acurácia do seu modelo quando aplicado à base de teste."
      ]
    },
    {
      "cell_type": "code",
      "execution_count": null,
      "metadata": {
        "id": "4meKYxj2IEiK"
      },
      "outputs": [],
      "source": [
        "# to do"
      ]
    },
    {
      "cell_type": "markdown",
      "metadata": {
        "id": "lmOoXrSlV-zw"
      },
      "source": [
        "6) Imprima a matriz confusão do seu modelo quando aplicado à base de teste."
      ]
    },
    {
      "cell_type": "code",
      "execution_count": null,
      "metadata": {
        "id": "xZAqS5AiWJXX"
      },
      "outputs": [],
      "source": [
        "# to do"
      ]
    },
    {
      "cell_type": "markdown",
      "metadata": {
        "id": "IIPBrrf5WK0W"
      },
      "source": [
        "7) Imprima as métricas de precision, recall e f1-score para cada um dos dígitos reconhecidos da base de teste."
      ]
    },
    {
      "cell_type": "code",
      "execution_count": null,
      "metadata": {
        "id": "NPIUwSg4WaCS"
      },
      "outputs": [],
      "source": [
        "# to do"
      ]
    },
    {
      "cell_type": "markdown",
      "metadata": {
        "id": "86RV9sxzJLMR"
      },
      "source": [
        "---\n",
        "\n",
        "<h1>Equipe</h1>\n",
        "\n",
        "**Aluno 1**: Nome (RGM)\n",
        "\n",
        "**Aluno 2**: Nome (RGM)\n",
        "\n",
        "**Aluno 3**: Nome (RGM)\n",
        "\n",
        "**Aluno 4**: Nome (RGM)\n"
      ]
    }
  ],
  "metadata": {
    "colab": {
      "provenance": []
    },
    "kernelspec": {
      "display_name": "Python 3",
      "name": "python3"
    },
    "language_info": {
      "codemirror_mode": {
        "name": "ipython",
        "version": 3
      },
      "file_extension": ".py",
      "mimetype": "text/x-python",
      "name": "python",
      "nbconvert_exporter": "python",
      "pygments_lexer": "ipython3",
      "version": "3.10.12"
    }
  },
  "nbformat": 4,
  "nbformat_minor": 0
}
