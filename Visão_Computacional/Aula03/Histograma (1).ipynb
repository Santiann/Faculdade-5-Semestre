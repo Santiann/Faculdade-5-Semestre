{
  "cells": [
    {
      "cell_type": "markdown",
      "metadata": {
        "id": "ugBJiSKypAUK"
      },
      "source": [
        "<h1>Histograma</h1>\n",
        "\n",
        "É um conjunto de números que indica a **quantidade** ou o **percentual** de pixels que apresentam determinado nível de cinza.\n",
        "\n",
        "São normalmente apresentados por um gráfico que fornece para cada nível de cinza a quantidade (ou o percentual) de pixels com aquele nível de cinza na imagem.\n",
        "\n",
        "Através da análise do histograma de uma imagem é possível obter uma indicação de sua qualidade quanto ao nível de contraste e quanto ao seu brilho médio (se a imagem é predominantemente clara ou escura)."
      ]
    },
    {
      "cell_type": "code",
      "execution_count": 32,
      "metadata": {
        "id": "pPDzvWMQphTS"
      },
      "outputs": [],
      "source": [
        "# importa os pacotes\n",
        "# %matplotlib inline\n",
        "import numpy as np\n",
        "import matplotlib.pyplot as plt\n",
        "import cv2"
      ]
    },
    {
      "cell_type": "markdown",
      "metadata": {
        "id": "7i0OoXvQp1D7"
      },
      "source": [
        "1) Escreva uma função para calcular e retornar o histograma de uma imagem monocromática na forma de um array de 256 posições."
      ]
    },
    {
      "cell_type": "code",
      "execution_count": 33,
      "metadata": {
        "id": "YD9pP4Erp2XP"
      },
      "outputs": [],
      "source": [
        "def calcular_histograma_manual(imagem):\n",
        "    histograma = np.zeros(256)\n",
        "    \n",
        "    altura, largura = imagem.shape\n",
        "    for y in range(altura):\n",
        "        for x in range(largura):\n",
        "            intensidade_pixel = imagem[y, x]\n",
        "            histograma[intensidade_pixel] += 1\n",
        "\n",
        "    histograma /= (altura * largura)\n",
        "    \n",
        "    return histograma"
      ]
    },
    {
      "cell_type": "markdown",
      "metadata": {
        "id": "4cWOE-T4qALZ"
      },
      "source": [
        "2) Plote os histogramas das imagens 4_2.png e 2_7.png."
      ]
    },
    {
      "cell_type": "code",
      "execution_count": 34,
      "metadata": {
        "id": "4R2UyXy8qBja"
      },
      "outputs": [
        {
          "data": {
            "image/png": "[encoded data removed]",
            "text/plain": [
              "<Figure size 1200x600 with 2 Axes>"
            ]
          },
          "metadata": {},
          "output_type": "display_data"
        }
      ],
      "source": [
        "imagem1 = cv2.imread('2_7.png', cv2.IMREAD_GRAYSCALE)\n",
        "imagem2 = cv2.imread('4_2.png', cv2.IMREAD_GRAYSCALE)\n",
        "\n",
        "histograma_manual1 = calcular_histograma_manual(imagem1)\n",
        "histograma_manual2 = calcular_histograma_manual(imagem2)\n",
        "\n",
        "plt.figure(figsize=(12, 6))\n",
        "\n",
        "plt.subplot(1, 2, 1)\n",
        "plt.bar(np.arange(256), histograma_manual1, color='b', alpha=0.7)\n",
        "plt.title('Histograma - Imagem 1')\n",
        "plt.xlabel('Intensidade de pixel')\n",
        "plt.ylabel('Frequência')\n",
        "\n",
        "plt.subplot(1, 2, 2)\n",
        "plt.bar(np.arange(256), histograma_manual2, color='r', alpha=0.7)\n",
        "plt.title('Histograma - Imagem 2')\n",
        "plt.xlabel('Intensidade de pixel')\n",
        "plt.ylabel('Frequência')\n",
        "\n",
        "plt.tight_layout()\n",
        "plt.show()"
      ]
    },
    {
      "cell_type": "markdown",
      "metadata": {
        "id": "qvapyJvos6wp"
      },
      "source": [
        "# Transformações de intensidade\n",
        "\n",
        "Descrevem regras para atribuição de novos valores de intensidade de pixel baseando-se exclusivamente no seu valor de intensidade atual.\n",
        "\n",
        "As transformações podem ser lineares e não-lineares.\n",
        "\n",
        "Transformações lineares podem ser expressas da seguinte forma:\n",
        "\n",
        "$y_{ij} = a \\cdot x_{ij} + b$\n",
        "\n",
        "Onde:\n",
        "*   $x_{ij}$: valor de intensidade do pixel atual na posição $ij$\n",
        "*   $y_{ij}$: novo valor de intensidade do pixel na posição $ij$"
      ]
    },
    {
      "cell_type": "markdown",
      "metadata": {
        "id": "S4roHYnztKzP"
      },
      "source": [
        "3) Descreva e implemente uma função de transformação de intensidade a fim de tornar a imagem da figura **4_2.png** mais escura."
      ]
    },
    {
      "cell_type": "code",
      "execution_count": 40,
      "metadata": {
        "id": "z53_vce_tL6b"
      },
      "outputs": [],
      "source": [
        "def tornar_imagem_mais_escura(imagem, fator_escurecimento):\n",
        "    # Garante que o fator de escurecimento esteja entre 0 e 1\n",
        "    fator_escurecimento = max(0, min(1, fator_escurecimento))\n",
        "    # Aplica a transformação de intensidade para tornar a imagem mais escura\n",
        "    imagem_escura = (imagem * fator_escurecimento).astype(np.uint8)\n",
        "    return imagem_escura\n",
        "\n",
        "# Carregar a imagem\n",
        "imagem = cv2.imread('4_2.png', cv2.IMREAD_GRAYSCALE)\n",
        "\n",
        "# Define o fator de escurecimento (0.5 tornará a imagem duas vezes mais escura)\n",
        "fator_escurecimento = 0.5\n",
        "\n",
        "# Aplica a transformação de intensidade\n",
        "imagem_escura = tornar_imagem_mais_escura(imagem, fator_escurecimento)\n",
        "\n",
        "# Exibe a imagem original e a imagem tornada mais escura\n",
        "cv2.imshow('Imagem Original', imagem)\n",
        "cv2.imshow('Imagem Mais Escura', imagem_escura)\n",
        "cv2.waitKey(0)\n",
        "cv2.destroyAllWindows()"
      ]
    },
    {
      "cell_type": "markdown",
      "metadata": {
        "id": "WD_zQVPPtMfW"
      },
      "source": [
        "4) Descreva e implemente uma função de transformação de intensidade a fim de tornar a imagem da figura **2_7.png** mais clara."
      ]
    },
    {
      "cell_type": "code",
      "execution_count": 36,
      "metadata": {
        "id": "6QBn-YwhtQkx"
      },
      "outputs": [],
      "source": [
        "# TO DO"
      ]
    },
    {
      "cell_type": "markdown",
      "metadata": {
        "id": "VwgKIm8vtRbt"
      },
      "source": [
        "# Equalização do Histograma\n",
        "\n",
        "É uma técnica que visa redistribuir os valores de tons de cinza dos pixels em uma imagem, de modo a obter um histograma uniforme, no qual o número (ou percentual) de pixels de qualquer nível de cinza seja praticamente o mesmo.\n",
        "\n",
        "A forma mais usual de se equalizar um histograma é utilizar a Função de Distribuição Acumulada (CDF, *Cumulative Distribution Function*) da distribuição de probabilidades original."
      ]
    },
    {
      "cell_type": "markdown",
      "metadata": {
        "id": "-XcgQUcttXuy"
      },
      "source": [
        "5) Calcular e plotar a função CDF do histograma da imagem da figura **4_2.png**."
      ]
    },
    {
      "cell_type": "code",
      "execution_count": 37,
      "metadata": {
        "id": "OwdETvDFtbVz"
      },
      "outputs": [],
      "source": [
        "# TO DO"
      ]
    },
    {
      "cell_type": "markdown",
      "metadata": {
        "id": "gJz6Ej90tguk"
      },
      "source": [
        "6) Equalizar o histograma da imagem da figura **4_2.png** e plotar os seguinte:\n",
        "\n",
        "\n",
        "1.   Imagem original\n",
        "2.   Histograma da imagem original\n",
        "3.   Imagem processada (equalizada)\n",
        "4.   Histograma da imagem processada\n",
        "\n"
      ]
    },
    {
      "cell_type": "code",
      "execution_count": 38,
      "metadata": {
        "id": "jolEO25ftj-g"
      },
      "outputs": [],
      "source": [
        "# TO DO"
      ]
    },
    {
      "cell_type": "markdown",
      "metadata": {
        "id": "xI92kUeQtk3a"
      },
      "source": [
        "7) Equalizar o histograma da imagem da figura **2_7.png** e plotar os seguinte:\n",
        "\n",
        "\n",
        "1.   Imagem original\n",
        "2.   Histograma da imagem original\n",
        "3.   Imagem processada (equalizada)\n",
        "4.   Histograma da imagem processada\n"
      ]
    },
    {
      "cell_type": "code",
      "execution_count": 39,
      "metadata": {
        "id": "VXhzTez_tnvS"
      },
      "outputs": [],
      "source": [
        "# TO DO"
      ]
    },
    {
      "cell_type": "markdown",
      "metadata": {
        "id": "KRoB3_DjtrlY"
      },
      "source": [
        "\n",
        "---\n",
        "\n",
        "<h1>Equipe</h1>\n",
        "\n",
        "**Aluno 1**: Nome (RGM)\n",
        "\n",
        "**Aluno 2**: Nome (RGM)\n",
        "\n",
        "**Aluno 3**: Nome (RGM)\n",
        "\n",
        "**Aluno 4**: Nome (RGM)\n"
      ]
    }
  ],
  "metadata": {
    "colab": {
      "provenance": []
    },
    "kernelspec": {
      "display_name": "Python 3",
      "name": "python3"
    },
    "language_info": {
      "codemirror_mode": {
        "name": "ipython",
        "version": 3
      },
      "file_extension": ".py",
      "mimetype": "text/x-python",
      "name": "python",
      "nbconvert_exporter": "python",
      "pygments_lexer": "ipython3",
      "version": "3.11.0"
    }
  },
  "nbformat": 4,
  "nbformat_minor": 0
}
